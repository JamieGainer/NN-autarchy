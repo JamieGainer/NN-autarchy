{
 "cells": [
  {
   "cell_type": "code",
   "execution_count": 1,
   "metadata": {},
   "outputs": [],
   "source": [
    "%matplotlib inline"
   ]
  },
  {
   "cell_type": "code",
   "execution_count": 2,
   "metadata": {},
   "outputs": [],
   "source": [
    "import matplotlib.pyplot as plt"
   ]
  },
  {
   "cell_type": "code",
   "execution_count": 3,
   "metadata": {},
   "outputs": [],
   "source": [
    "plt.rcParams['figure.figsize'] = [15.0, 10.0]\n",
    "plt.rcParams['font.size'] = 24"
   ]
  },
  {
   "cell_type": "code",
   "execution_count": 4,
   "metadata": {},
   "outputs": [],
   "source": [
    "from collections import namedtuple\n",
    "import time"
   ]
  },
  {
   "cell_type": "code",
   "execution_count": 5,
   "metadata": {},
   "outputs": [
    {
     "name": "stderr",
     "output_type": "stream",
     "text": [
      "/Users/jamie/anaconda2/envs/pro/lib/python3.6/site-packages/h5py/__init__.py:36: FutureWarning: Conversion of the second argument of issubdtype from `float` to `np.floating` is deprecated. In future, it will be treated as `np.float64 == np.dtype(float).type`.\n",
      "  from ._conv import register_converters as _register_converters\n"
     ]
    }
   ],
   "source": [
    "import numpy as np\n",
    "import sys\n",
    "\n",
    "from sklearn.model_selection import train_test_split\n",
    "from sklearn.preprocessing import RobustScaler\n",
    "\n",
    "from tensorflow import keras"
   ]
  },
  {
   "cell_type": "code",
   "execution_count": 6,
   "metadata": {},
   "outputs": [],
   "source": [
    "class PrintDot(keras.callbacks.Callback):\n",
    "    def on_epoch_end(self, epoch, logs):\n",
    "        if epoch % 100 == 0:\n",
    "            print('')\n",
    "        print('.', end='')"
   ]
  },
  {
   "cell_type": "code",
   "execution_count": 7,
   "metadata": {},
   "outputs": [],
   "source": [
    "from my_keras import model_from_architecture"
   ]
  },
  {
   "cell_type": "code",
   "execution_count": 8,
   "metadata": {},
   "outputs": [],
   "source": [
    "input_file_name = 'boston.csv'"
   ]
  },
  {
   "cell_type": "code",
   "execution_count": 9,
   "metadata": {},
   "outputs": [],
   "source": [
    "param_dict = {\n",
    "             'target_column': -1,\n",
    "             'seed': 42\n",
    "             }"
   ]
  },
  {
   "cell_type": "code",
   "execution_count": 10,
   "metadata": {},
   "outputs": [],
   "source": [
    "try:\n",
    "    file_data = np.genfromtxt(input_file_name, delimiter=',', skip_header=1)\n",
    "except:\n",
    "    print('Unable to read data file:', input_file_name)\n",
    "    quit()"
   ]
  },
  {
   "cell_type": "code",
   "execution_count": 11,
   "metadata": {},
   "outputs": [
    {
     "name": "stdout",
     "output_type": "stream",
     "text": [
      "target_column \b: -1\n",
      "seed \b: 42\n"
     ]
    }
   ],
   "source": [
    "for run_param in param_dict:\n",
    "    print(run_param, '\\b:', param_dict[run_param])"
   ]
  },
  {
   "cell_type": "code",
   "execution_count": 12,
   "metadata": {},
   "outputs": [
    {
     "data": {
      "text/plain": [
       "(506, 14)"
      ]
     },
     "execution_count": 12,
     "metadata": {},
     "output_type": "execute_result"
    }
   ],
   "source": [
    "file_data.shape"
   ]
  },
  {
   "cell_type": "code",
   "execution_count": 13,
   "metadata": {},
   "outputs": [],
   "source": [
    "try:\n",
    "    y = file_data[:, param_dict['target_column']]\n",
    "except IndexError:\n",
    "    print(param_dict['target_column'], 'is not a valid column.')\n",
    "    quit()\n",
    "\n",
    "mask = (file_data == file_data)\n",
    "mask[:, param_dict['target_column']] = False\n",
    "\n",
    "data_shape = file_data.shape\n",
    "x = file_data[mask].reshape((data_shape[0], data_shape[1] - 1))"
   ]
  },
  {
   "cell_type": "code",
   "execution_count": 14,
   "metadata": {},
   "outputs": [],
   "source": [
    "train_size = 0.75\n",
    "test_size  = 0.25"
   ]
  },
  {
   "cell_type": "code",
   "execution_count": 15,
   "metadata": {},
   "outputs": [],
   "source": [
    "(\n",
    "x_train, \n",
    "x_test,\n",
    "y_train,\n",
    "y_test\n",
    ") = train_test_split(\n",
    "                    x, y, train_size=train_size,\n",
    "                    test_size=test_size, \n",
    "                    random_state=param_dict['seed']\n",
    "                    )"
   ]
  },
  {
   "cell_type": "code",
   "execution_count": 16,
   "metadata": {},
   "outputs": [],
   "source": [
    "scaler = RobustScaler()\n",
    "scaled_x_train = scaler.fit_transform(x_train)"
   ]
  },
  {
   "cell_type": "code",
   "execution_count": 17,
   "metadata": {},
   "outputs": [
    {
     "name": "stdout",
     "output_type": "stream",
     "text": [
      "[13, 10000, 1] 0.01\n",
      "\n",
      "....................................................................................................\n",
      "....................................................................................................\n",
      "....................................................................................................\n",
      "....................................................................................................\n",
      "....................................................................................................\n",
      "....................................................................................................\n",
      "....................................................................................................\n",
      "....................................................................................................\n",
      "....................................................................................................\n",
      "....................................................................................................\n",
      "val_loss: 60.13322863662452\n",
      "train_loss: 66.69784312698076\n",
      "time: 157.61029076576233\n"
     ]
    }
   ],
   "source": [
    "EPOCHS = 1000\n",
    "start_time = time.time()\n",
    "early_stop = keras.callbacks.EarlyStopping(monitor='val_loss', patience=500)\n",
    "arch_list = [13,1000,5,10000,1]\n",
    "lam_reg = 0.1\n",
    "\n",
    "my_model = model_from_architecture(arch_list, 1.)\n",
    "print(arch_list, lam_reg)\n",
    "        \n",
    "history = my_model.fit(\n",
    "                      scaled_x_train, y_train, epochs=EPOCHS,\n",
    "                      validation_split=0.3, \n",
    "                      verbose=0,\n",
    "                      callbacks=[PrintDot(), early_stop]\n",
    "                      )\n",
    "        \n",
    "val_loss = history.history['val_loss'][-1]\n",
    "train_loss = history.history['loss'][-1]\n",
    "        \n",
    "print('\\nval_loss:', val_loss)\n",
    "print('train_loss:', train_loss)\n",
    "print('time:', time.time() - start_time)"
   ]
  },
  {
   "cell_type": "code",
   "execution_count": 18,
   "metadata": {},
   "outputs": [
    {
     "data": {
      "text/plain": [
       "<matplotlib.legend.Legend at 0x1a2cefc198>"
      ]
     },
     "execution_count": 18,
     "metadata": {},
     "output_type": "execute_result"
    },
    {
     "data": {
      "image/png": "[encoded data removed]",
      "text/plain": [
       "<matplotlib.figure.Figure at 0x1a2caf3b00>"
      ]
     },
     "metadata": {},
     "output_type": "display_data"
    }
   ],
   "source": [
    "plt.plot(\n",
    "        history.epoch, history.history['val_loss'],\n",
    "        label = 'Validation Set Loss',\n",
    "        lw = 4,\n",
    "        ls = '--'\n",
    "        )\n",
    "plt.plot(\n",
    "        history.epoch,\n",
    "        history.history['loss'], \n",
    "        label = 'Train Set Loss',\n",
    "        lw = 4\n",
    "        )\n",
    "\n",
    "plt.legend()"
   ]
  },
  {
   "cell_type": "markdown",
   "metadata": {},
   "source": [
    "### Apply function to 25% held out data for direct comparison with TPOT results"
   ]
  },
  {
   "cell_type": "code",
   "execution_count": 19,
   "metadata": {},
   "outputs": [],
   "source": [
    "scaled_x_test = scaler.transform(x_test)\n",
    "y_predict = my_model.predict(scaled_x_test)"
   ]
  },
  {
   "cell_type": "code",
   "execution_count": 20,
   "metadata": {},
   "outputs": [
    {
     "data": {
      "text/plain": [
       "104.49593264089987"
      ]
     },
     "execution_count": 20,
     "metadata": {},
     "output_type": "execute_result"
    }
   ],
   "source": [
    "np.mean((y_predict - y_test)**2)"
   ]
  },
  {
   "cell_type": "code",
   "execution_count": null,
   "metadata": {},
   "outputs": [],
   "source": []
  }
 ],
 "metadata": {
  "kernelspec": {
   "display_name": "Python 3",
   "language": "python",
   "name": "python3"
  },
  "language_info": {
   "codemirror_mode": {
    "name": "ipython",
    "version": 3
   },
   "file_extension": ".py",
   "mimetype": "text/x-python",
   "name": "python",
   "nbconvert_exporter": "python",
   "pygments_lexer": "ipython3",
   "version": "3.6.4"
  }
 },
 "nbformat": 4,
 "nbformat_minor": 2
}
