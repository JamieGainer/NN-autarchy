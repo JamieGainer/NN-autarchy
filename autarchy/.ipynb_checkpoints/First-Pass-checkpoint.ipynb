{
 "cells": [
  {
   "cell_type": "code",
   "execution_count": 1,
   "metadata": {},
   "outputs": [],
   "source": [
    "%matplotlib inline"
   ]
  },
  {
   "cell_type": "code",
   "execution_count": 2,
   "metadata": {},
   "outputs": [],
   "source": [
    "import matplotlib.pyplot as plt"
   ]
  },
  {
   "cell_type": "code",
   "execution_count": 3,
   "metadata": {},
   "outputs": [],
   "source": [
    "plt.rcParams['figure.figsize'] = [15.0, 10.0]\n",
    "plt.rcParams['font.size'] = 24"
   ]
  },
  {
   "cell_type": "code",
   "execution_count": 4,
   "metadata": {},
   "outputs": [
    {
     "name": "stderr",
     "output_type": "stream",
     "text": [
      "/Users/jamie/anaconda2/envs/pro/lib/python3.6/site-packages/h5py/__init__.py:36: FutureWarning: Conversion of the second argument of issubdtype from `float` to `np.floating` is deprecated. In future, it will be treated as `np.float64 == np.dtype(float).type`.\n",
      "  from ._conv import register_converters as _register_converters\n"
     ]
    }
   ],
   "source": [
    "import numpy as np\n",
    "import sys\n",
    "import tensorflow as tf\n",
    "from tensorflow import keras\n",
    "\n",
    "from tensorflow.keras.models import Sequential\n",
    "from tensorflow.keras.layers import Dense\n",
    "from tensorflow.keras.wrappers.scikit_learn import KerasRegressor"
   ]
  },
  {
   "cell_type": "code",
   "execution_count": 5,
   "metadata": {},
   "outputs": [],
   "source": [
    "def baseline_general(n_features, n_hidden):\n",
    "    model = Sequential()\n",
    "    model.add(\n",
    "             Dense(\n",
    "                   n_hidden, \n",
    "                   input_dim=n_features, \n",
    "                   kernel_initializer='normal',\n",
    "                   activation='sigmoid'\n",
    "                  )\n",
    "             )\n",
    "    model.add(Dense(1, kernel_initializer='normal'))\n",
    "    # Compile model\n",
    "    model.compile(loss='mean_squared_error', optimizer='adam')\n",
    "    return model"
   ]
  },
  {
   "cell_type": "code",
   "execution_count": 6,
   "metadata": {},
   "outputs": [],
   "source": [
    "n_features = 13"
   ]
  },
  {
   "cell_type": "code",
   "execution_count": 7,
   "metadata": {},
   "outputs": [],
   "source": [
    "neurons = {\n",
    "    'input_dim': n_features,\n",
    "    'encoder_hidden': 5,\n",
    "    'encoded_features': 1,\n",
    "    'hidden_layer': 50,\n",
    "    'output_layer': 1\n",
    "}\n",
    "\n",
    "my_model = Sequential()\n",
    "# layer 1\n",
    "my_model.add(\n",
    "            Dense(\n",
    "                 neurons['encoder_hidden'], \n",
    "                 input_dim=neurons['input_dim'],\n",
    "                 kernel_initializer='normal',\n",
    "                 activation='sigmoid'\n",
    "                 )\n",
    "            )\n",
    "# layer 2\n",
    "my_model.add(\n",
    "            Dense(\n",
    "                 neurons['encoded_features'], \n",
    "                 kernel_initializer='normal',\n",
    "                 activation='sigmoid'\n",
    "                 )\n",
    "            )\n",
    "# layer 3\n",
    "my_model.add(\n",
    "            Dense(\n",
    "                 neurons['hidden_layer'], \n",
    "                 kernel_initializer='normal',\n",
    "                 activation='sigmoid'\n",
    "                 )\n",
    "            )\n",
    "# last layer\n",
    "my_model.add(Dense(1, kernel_initializer='normal'))\n",
    "my_model.compile(loss='mean_squared_error', optimizer='adam')"
   ]
  },
  {
   "cell_type": "code",
   "execution_count": 8,
   "metadata": {},
   "outputs": [],
   "source": [
    "input_file_name = 'boston.csv'"
   ]
  },
  {
   "cell_type": "code",
   "execution_count": 9,
   "metadata": {},
   "outputs": [],
   "source": [
    "try:\n",
    "    file_data = np.genfromtxt(input_file_name, delimiter=',', skip_header=1)\n",
    "except:\n",
    "    print('Unable to read data file:', input_file_name)\n",
    "    quit()\n",
    "\n",
    "data_shape = file_data.shape\n",
    "n_features = data_shape[1] - 1\n",
    "n_samples = data_shape[0]"
   ]
  },
  {
   "cell_type": "code",
   "execution_count": 10,
   "metadata": {},
   "outputs": [
    {
     "name": "stdout",
     "output_type": "stream",
     "text": [
      "target_column \b: -1\n",
      "seed \b: 42\n"
     ]
    }
   ],
   "source": [
    "param_dict = {\n",
    "             'target_column': -1,\n",
    "             'seed': 42\n",
    "             }\n",
    "\n",
    "for run_param in param_dict:\n",
    "    print(run_param, '\\b:', param_dict[run_param])"
   ]
  },
  {
   "cell_type": "code",
   "execution_count": 11,
   "metadata": {},
   "outputs": [],
   "source": [
    "try:\n",
    "    y = file_data[:, param_dict['target_column']]\n",
    "except IndexError:\n",
    "    print(param_dict['target_column'], 'is not a valid column.')\n",
    "    quit()\n",
    "\n",
    "mask = (file_data == file_data)\n",
    "mask[:, param_dict['target_column']] = False\n",
    "\n",
    "x = file_data[mask].reshape((n_samples, n_features))"
   ]
  },
  {
   "cell_type": "code",
   "execution_count": 12,
   "metadata": {},
   "outputs": [],
   "source": [
    "hidden_layer_n = 500\n",
    "EPOCHS = 1000"
   ]
  },
  {
   "cell_type": "code",
   "execution_count": 13,
   "metadata": {},
   "outputs": [],
   "source": [
    "np.random.seed(param_dict['seed'])\n",
    "baseline_model = baseline_general(n_features, hidden_layer_n)"
   ]
  },
  {
   "cell_type": "code",
   "execution_count": 14,
   "metadata": {},
   "outputs": [],
   "source": [
    "class PrintDot(keras.callbacks.Callback):\n",
    "    def on_epoch_end(self, epoch, logs):\n",
    "        if epoch % 100 == 0:\n",
    "            print('')\n",
    "        print('.', end='')"
   ]
  },
  {
   "cell_type": "code",
   "execution_count": 15,
   "metadata": {},
   "outputs": [],
   "source": [
    "early_stop = keras.callbacks.EarlyStopping(monitor='val_loss', patience=100)"
   ]
  },
  {
   "cell_type": "code",
   "execution_count": 16,
   "metadata": {},
   "outputs": [
    {
     "name": "stdout",
     "output_type": "stream",
     "text": [
      "\n",
      "....................................................................................................\n",
      ".............................."
     ]
    }
   ],
   "source": [
    "#history = baseline_model.fit(\n",
    "history = my_model.fit(\n",
    "                            x, y, epochs=EPOCHS,\n",
    "                            validation_split=0.2, \n",
    "                            verbose=0,\n",
    "                            callbacks=[early_stop, PrintDot()]\n",
    "                            )"
   ]
  },
  {
   "cell_type": "code",
   "execution_count": 17,
   "metadata": {},
   "outputs": [
    {
     "data": {
      "text/plain": [
       "<matplotlib.legend.Legend at 0x182b60ea90>"
      ]
     },
     "execution_count": 17,
     "metadata": {},
     "output_type": "execute_result"
    },
    {
     "data": {
      "image/png": "[encoded data removed]",
      "text/plain": [
       "<matplotlib.figure.Figure at 0x18227136d8>"
      ]
     },
     "metadata": {},
     "output_type": "display_data"
    }
   ],
   "source": [
    "plt.plot(\n",
    "        history.epoch, history.history['val_loss'],\n",
    "        label = 'Validation Set Loss',\n",
    "        lw = 4,\n",
    "        ls = '--'\n",
    "        )\n",
    "plt.plot(\n",
    "        history.epoch,\n",
    "        history.history['loss'], \n",
    "        label = 'Train Set Loss',\n",
    "        lw = 4\n",
    "        )\n",
    "\n",
    "plt.legend()"
   ]
  },
  {
   "cell_type": "code",
   "execution_count": 19,
   "metadata": {},
   "outputs": [],
   "source": [
    "my_model.save_weights('my_model_weights.h5')"
   ]
  },
  {
   "cell_type": "code",
   "execution_count": null,
   "metadata": {},
   "outputs": [],
   "source": []
  }
 ],
 "metadata": {
  "kernelspec": {
   "display_name": "Python 3",
   "language": "python",
   "name": "python3"
  },
  "language_info": {
   "codemirror_mode": {
    "name": "ipython",
    "version": 3
   },
   "file_extension": ".py",
   "mimetype": "text/x-python",
   "name": "python",
   "nbconvert_exporter": "python",
   "pygments_lexer": "ipython3",
   "version": "3.6.4"
  }
 },
 "nbformat": 4,
 "nbformat_minor": 2
}
