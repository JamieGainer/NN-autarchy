{
 "cells": [
  {
   "cell_type": "code",
   "execution_count": 1,
   "metadata": {},
   "outputs": [],
   "source": [
    "%matplotlib inline"
   ]
  },
  {
   "cell_type": "code",
   "execution_count": 2,
   "metadata": {},
   "outputs": [],
   "source": [
    "import matplotlib.pyplot as plt"
   ]
  },
  {
   "cell_type": "code",
   "execution_count": 3,
   "metadata": {},
   "outputs": [],
   "source": [
    "plt.rcParams['figure.figsize'] = [15.0, 10.0]\n",
    "plt.rcParams['font.size'] = 24"
   ]
  },
  {
   "cell_type": "code",
   "execution_count": 4,
   "metadata": {},
   "outputs": [],
   "source": [
    "from collections import namedtuple\n",
    "import time"
   ]
  },
  {
   "cell_type": "code",
   "execution_count": 5,
   "metadata": {},
   "outputs": [
    {
     "name": "stderr",
     "output_type": "stream",
     "text": [
      "/Users/jamie/anaconda2/envs/pro/lib/python3.6/site-packages/h5py/__init__.py:36: FutureWarning: Conversion of the second argument of issubdtype from `float` to `np.floating` is deprecated. In future, it will be treated as `np.float64 == np.dtype(float).type`.\n",
      "  from ._conv import register_converters as _register_converters\n"
     ]
    }
   ],
   "source": [
    "import numpy as np\n",
    "import sys\n",
    "\n",
    "from sklearn.model_selection import train_test_split\n",
    "from sklearn.preprocessing import RobustScaler\n",
    "\n",
    "from tensorflow import keras\n",
    "from tensorflow.keras.models import Sequential\n",
    "from tensorflow.keras.layers import Dense\n",
    "from tensorflow.keras import regularizers"
   ]
  },
  {
   "cell_type": "code",
   "execution_count": 6,
   "metadata": {},
   "outputs": [],
   "source": [
    "Layer = namedtuple('Layer', ['name', 'units'])"
   ]
  },
  {
   "cell_type": "code",
   "execution_count": 7,
   "metadata": {},
   "outputs": [],
   "source": [
    "class PrintDot(keras.callbacks.Callback):\n",
    "    def on_epoch_end(self, epoch, logs):\n",
    "        if epoch % 100 == 0:\n",
    "            print('')\n",
    "        print('.', end='')"
   ]
  },
  {
   "cell_type": "code",
   "execution_count": null,
   "metadata": {},
   "outputs": [],
   "source": [
    "def model_from_architecture(arch_list, lam_reg, activation='sigmoid'):"
   ]
  },
  {
   "cell_type": "code",
   "execution_count": 8,
   "metadata": {},
   "outputs": [],
   "source": [
    "def model_from_architecture(\n",
    "                           n_features, encoder_hidden, \n",
    "                           encoded_features, hidden_layer, \n",
    "                           output_layer, hidden_layer_reg):\n",
    "    \n",
    "    layers = [\n",
    "             Layer('encoder_hidden', encoder_hidden),\n",
    "             Layer('encoded_features', encoded_features),\n",
    "             Layer('hidden_layer', hidden_layer),\n",
    "             Layer('output_layer', output_layer)\n",
    "             ]\n",
    "\n",
    "    activation='sigmoid'\n",
    "    \n",
    "    my_model = Sequential()\n",
    "\n",
    "    my_model.add(\n",
    "                Dense(\n",
    "                     layers[0].units,\n",
    "                     name=layers[0].name,\n",
    "                     kernel_initializer='normal',\n",
    "                     activation=activation,\n",
    "                     input_dim=n_features,        \n",
    "                     )\n",
    "                )\n",
    "    my_model.add(\n",
    "                Dense(\n",
    "                     layers[1].units,\n",
    "                     name=layers[1].name,\n",
    "                     kernel_initializer='normal',\n",
    "                     activation=activation\n",
    "                     )\n",
    "                )\n",
    "    my_model.add(\n",
    "                Dense(\n",
    "                     layers[2].units, \n",
    "                     name=layers[2].name,\n",
    "                     kernel_initializer='normal',\n",
    "                     activation=activation,\n",
    "                     kernel_regularizer=regularizers.l2(hidden_layer_reg)\n",
    "                     )\n",
    "                )\n",
    "    my_model.add(\n",
    "                Dense(\n",
    "                     layers[3].units, \n",
    "                     name=layers[3].name,\n",
    "                     kernel_initializer='normal',\n",
    "                     )\n",
    "                )\n",
    "    my_model.compile(loss='mean_squared_error', optimizer='adam')\n",
    "    return my_model"
   ]
  },
  {
   "cell_type": "code",
   "execution_count": 9,
   "metadata": {},
   "outputs": [],
   "source": [
    "input_file_name = 'boston.csv'"
   ]
  },
  {
   "cell_type": "code",
   "execution_count": 10,
   "metadata": {},
   "outputs": [],
   "source": [
    "param_dict = {\n",
    "             'target_column': -1,\n",
    "             'seed': 42\n",
    "             }"
   ]
  },
  {
   "cell_type": "code",
   "execution_count": 11,
   "metadata": {},
   "outputs": [],
   "source": [
    "try:\n",
    "    file_data = np.genfromtxt(input_file_name, delimiter=',', skip_header=1)\n",
    "except:\n",
    "    print('Unable to read data file:', input_file_name)\n",
    "    quit()"
   ]
  },
  {
   "cell_type": "code",
   "execution_count": 12,
   "metadata": {},
   "outputs": [
    {
     "name": "stdout",
     "output_type": "stream",
     "text": [
      "target_column \b: -1\n",
      "seed \b: 42\n"
     ]
    }
   ],
   "source": [
    "for run_param in param_dict:\n",
    "    print(run_param, '\\b:', param_dict[run_param])"
   ]
  },
  {
   "cell_type": "code",
   "execution_count": 13,
   "metadata": {},
   "outputs": [
    {
     "data": {
      "text/plain": [
       "(506, 14)"
      ]
     },
     "execution_count": 13,
     "metadata": {},
     "output_type": "execute_result"
    }
   ],
   "source": [
    "file_data.shape"
   ]
  },
  {
   "cell_type": "code",
   "execution_count": 14,
   "metadata": {},
   "outputs": [],
   "source": [
    "try:\n",
    "    y = file_data[:, param_dict['target_column']]\n",
    "except IndexError:\n",
    "    print(param_dict['target_column'], 'is not a valid column.')\n",
    "    quit()\n",
    "\n",
    "mask = (file_data == file_data)\n",
    "mask[:, param_dict['target_column']] = False\n",
    "\n",
    "data_shape = file_data.shape\n",
    "x = file_data[mask].reshape((data_shape[0], data_shape[1] - 1))"
   ]
  },
  {
   "cell_type": "code",
   "execution_count": 15,
   "metadata": {},
   "outputs": [],
   "source": [
    "train_size = 0.75\n",
    "test_size  = 0.25"
   ]
  },
  {
   "cell_type": "code",
   "execution_count": 16,
   "metadata": {},
   "outputs": [],
   "source": [
    "(\n",
    "x_train, \n",
    "x_test,\n",
    "y_train,\n",
    "y_test\n",
    ") = train_test_split(\n",
    "                    x, y, train_size=train_size,\n",
    "                    test_size=test_size, \n",
    "                    random_state=param_dict['seed']\n",
    "                    )"
   ]
  },
  {
   "cell_type": "code",
   "execution_count": 17,
   "metadata": {},
   "outputs": [],
   "source": [
    "scaler = RobustScaler()\n",
    "scaled_x_train = scaler.fit_transform(x_train)"
   ]
  },
  {
   "cell_type": "code",
   "execution_count": 18,
   "metadata": {},
   "outputs": [],
   "source": [
    "initial_arch_list = [13, 1000, 8, 10000, 1,1.]"
   ]
  },
  {
   "cell_type": "code",
   "execution_count": 19,
   "metadata": {},
   "outputs": [],
   "source": [
    "arch_list = initial_arch_list"
   ]
  },
  {
   "cell_type": "code",
   "execution_count": 20,
   "metadata": {},
   "outputs": [
    {
     "name": "stdout",
     "output_type": "stream",
     "text": [
      "\n",
      "\b 0\n",
      "\n",
      "\b [13, 1000, 8, 10000, 1, 1.0]\n",
      "\n",
      "....................................................................................................\n",
      "....................................................................................................\n",
      "....................................................................................................\n",
      "....................................................................................................\n",
      "....................................................................................................\n",
      "....................................................................................................\n",
      "....................................................................................................\n",
      "....................................................................................................\n",
      "....................................................................................................\n",
      "....................................................................................................\n",
      "....................................................................................................\n",
      "....................................................................................................\n",
      "....................................................................................................\n",
      "....................................................................................................\n",
      "....................................................................................................\n",
      "....................................................................................................\n",
      "....................................................................................................\n",
      "....................................................................................................\n",
      "..................................................................\n",
      "val_loss: 31.628412614788925\n",
      "train_loss: 4.037395157004302\n",
      "390.12836384773254\n"
     ]
    }
   ],
   "source": [
    "EPOCHS = 2000\n",
    "\n",
    "start_time = time.time()\n",
    "\n",
    "early_stop = keras.callbacks.EarlyStopping(monitor='val_loss', patience=1000)\n",
    "overfit_threshold = 2\n",
    "continue_threshold = 1.1\n",
    "\n",
    "fit_dict = {}\n",
    "min_val_loss = np.inf\n",
    "\n",
    "i=0\n",
    "while True:\n",
    "    print('\\n\\b', i)\n",
    "    i+=1\n",
    "    arch_tuple = tuple(arch_list)\n",
    "    if arch_tuple in fit_dict:\n",
    "        fit_dict[arch_tuple]['num_visits'] += 1\n",
    "        if fit_dict[arch_tuple]['num_visits'] == 4:\n",
    "            break\n",
    "    else:\n",
    "        my_model = model_from_architecture(*arch_list)\n",
    "        print('\\n\\b', arch_list)\n",
    "        strategy = None\n",
    "        history = my_model.fit(\n",
    "                              scaled_x_train, y_train, epochs=EPOCHS,\n",
    "                              validation_split=0.3, \n",
    "                              verbose=0,\n",
    "                              callbacks=[PrintDot(), early_stop]\n",
    "                              )\n",
    "        val_loss = history.history['val_loss'][-1]\n",
    "        train_loss = history.history['loss'][-1]\n",
    "        print('\\nval_loss:', val_loss)\n",
    "        print('train_loss:', train_loss)\n",
    "    \n",
    "        fit_dict[arch_tuple] = {\n",
    "                               'val_loss': val_loss,\n",
    "                               'train_loss': train_loss,\n",
    "                               'weights': my_model.get_weights(),\n",
    "                               'num_visits': 1\n",
    "                               }\n",
    "        \n",
    "        improvement = val_loss < min_val_loss/continue_threshold\n",
    "        #overfit = val_loss/train_loss > overfit_threshold\n",
    "        \n",
    "        #if improvement or overfit: # continue   \n",
    "        if improvement:\n",
    "            best_model_arch = arch_tuple\n",
    "            min_val_loss = val_loss\n",
    "        else:\n",
    "            if strategy == 3:\n",
    "                strategy = 2\n",
    "            elif strategy == 2:\n",
    "                strategy = 1\n",
    "            else:\n",
    "                strategy = 3\n",
    "            \n",
    "            last_arch = arch_list\n",
    "    \n",
    "            if strategy == 1:\n",
    "                arch_list[1] *= 2\n",
    "            elif strategy == 2:\n",
    "                arch_list[2] += 1\n",
    "            else:\n",
    "                arch_list[3] *= 2\n",
    "        \n",
    "            arch_list = last_arch\n",
    "    if i == 1:\n",
    "        break\n",
    "        \n",
    "print(time.time() - start_time)"
   ]
  },
  {
   "cell_type": "code",
   "execution_count": 21,
   "metadata": {},
   "outputs": [
    {
     "data": {
      "text/plain": [
       "<matplotlib.legend.Legend at 0x1108677f0>"
      ]
     },
     "execution_count": 21,
     "metadata": {},
     "output_type": "execute_result"
    },
    {
     "data": {
      "image/png": "[encoded data removed]",
      "text/plain": [
       "<matplotlib.figure.Figure at 0x110271fd0>"
      ]
     },
     "metadata": {},
     "output_type": "display_data"
    }
   ],
   "source": [
    "plt.plot(\n",
    "        history.epoch, history.history['val_loss'],\n",
    "        label = 'Validation Set Loss',\n",
    "        lw = 4,\n",
    "        ls = '--'\n",
    "        )\n",
    "plt.plot(\n",
    "        history.epoch,\n",
    "        history.history['loss'], \n",
    "        label = 'Train Set Loss',\n",
    "        lw = 4\n",
    "        )\n",
    "\n",
    "plt.legend()"
   ]
  },
  {
   "cell_type": "code",
   "execution_count": 22,
   "metadata": {},
   "outputs": [
    {
     "data": {
      "text/plain": [
       "[29.166004783228825,\n",
       " 29.409743928072746,\n",
       " 29.197336564984237,\n",
       " 33.34345767372533,\n",
       " 31.759368896484375,\n",
       " 31.06992969178317,\n",
       " 31.587794253700658,\n",
       " 29.11013593171772,\n",
       " 30.680333656177186,\n",
       " 31.628412614788925]"
      ]
     },
     "execution_count": 22,
     "metadata": {},
     "output_type": "execute_result"
    }
   ],
   "source": [
    "history.history['val_loss'][-10:]"
   ]
  },
  {
   "cell_type": "code",
   "execution_count": 23,
   "metadata": {},
   "outputs": [
    {
     "data": {
      "text/plain": [
       "[5.29106662768238,\n",
       " 3.8711410158085373,\n",
       " 3.6310831812192808,\n",
       " 3.515487825645591,\n",
       " 3.739355359887177,\n",
       " 3.626670107751522,\n",
       " 3.6583392422154266,\n",
       " 3.6009251234666357,\n",
       " 3.461832454969298,\n",
       " 4.037395157004302]"
      ]
     },
     "execution_count": 23,
     "metadata": {},
     "output_type": "execute_result"
    }
   ],
   "source": [
    "history.history['loss'][-10:]"
   ]
  },
  {
   "cell_type": "code",
   "execution_count": 24,
   "metadata": {},
   "outputs": [],
   "source": [
    "weights = my_model.get_weights()"
   ]
  },
  {
   "cell_type": "code",
   "execution_count": 25,
   "metadata": {},
   "outputs": [
    {
     "ename": "TypeError",
     "evalue": "model_from_architecture() missing 1 required positional argument: 'hidden_layer_reg'",
     "output_type": "error",
     "traceback": [
      "\u001b[0;31m---------------------------------------------------------------------------\u001b[0m",
      "\u001b[0;31mTypeError\u001b[0m                                 Traceback (most recent call last)",
      "\u001b[0;32m<ipython-input-25-74333edce5b6>\u001b[0m in \u001b[0;36m<module>\u001b[0;34m()\u001b[0m\n\u001b[0;32m----> 1\u001b[0;31m \u001b[0mnew_model\u001b[0m \u001b[0;34m=\u001b[0m \u001b[0mmodel_from_architecture\u001b[0m\u001b[0;34m(\u001b[0m\u001b[0;34m*\u001b[0m\u001b[0;34m(\u001b[0m\u001b[0;36m13\u001b[0m\u001b[0;34m,\u001b[0m\u001b[0;36m5\u001b[0m\u001b[0;34m,\u001b[0m\u001b[0;36m1\u001b[0m\u001b[0;34m,\u001b[0m\u001b[0;36m500\u001b[0m\u001b[0;34m,\u001b[0m\u001b[0;36m1\u001b[0m\u001b[0;34m)\u001b[0m\u001b[0;34m)\u001b[0m\u001b[0;34m\u001b[0m\u001b[0m\n\u001b[0m",
      "\u001b[0;31mTypeError\u001b[0m: model_from_architecture() missing 1 required positional argument: 'hidden_layer_reg'"
     ]
    }
   ],
   "source": [
    "new_model = model_from_architecture(*(13,5,1,500,1))"
   ]
  },
  {
   "cell_type": "code",
   "execution_count": null,
   "metadata": {},
   "outputs": [],
   "source": [
    "new_model.set_weights(weights)"
   ]
  },
  {
   "cell_type": "code",
   "execution_count": null,
   "metadata": {},
   "outputs": [],
   "source": [
    "assert 0 == 1"
   ]
  },
  {
   "cell_type": "code",
   "execution_count": null,
   "metadata": {},
   "outputs": [],
   "source": [
    "history = new_model.fit(\n",
    "                            x, y, epochs=EPOCHS,\n",
    "                            validation_split=0.2, \n",
    "                            verbose=0,\n",
    "#                            callbacks=[early_stop, PrintDot()]\n",
    "                            callbacks = [PrintDot()]\n",
    "                            )"
   ]
  },
  {
   "cell_type": "code",
   "execution_count": null,
   "metadata": {},
   "outputs": [],
   "source": [
    "plt.plot(\n",
    "        history.epoch, history.history['val_loss'],\n",
    "        label = 'Validation Set Loss',\n",
    "        lw = 4,\n",
    "        ls = '--'\n",
    "        )\n",
    "plt.plot(\n",
    "        history.epoch,\n",
    "        history.history['loss'], \n",
    "        label = 'Train Set Loss',\n",
    "        lw = 4\n",
    "        )\n",
    "\n",
    "plt.legend()"
   ]
  },
  {
   "cell_type": "code",
   "execution_count": null,
   "metadata": {},
   "outputs": [],
   "source": []
  }
 ],
 "metadata": {
  "kernelspec": {
   "display_name": "Python 3",
   "language": "python",
   "name": "python3"
  },
  "language_info": {
   "codemirror_mode": {
    "name": "ipython",
    "version": 3
   },
   "file_extension": ".py",
   "mimetype": "text/x-python",
   "name": "python",
   "nbconvert_exporter": "python",
   "pygments_lexer": "ipython3",
   "version": "3.6.4"
  }
 },
 "nbformat": 4,
 "nbformat_minor": 2
}
